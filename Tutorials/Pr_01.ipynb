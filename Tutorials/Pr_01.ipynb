{
 "cells": [
  {
   "cell_type": "markdown",
   "id": "34305838",
   "metadata": {},
   "source": [
    "## Oscar Hernández Terán\n",
    "Bachelor's degree:\n",
    "        Geophysical Engineer"
   ]
  },
  {
   "cell_type": "markdown",
   "id": "1f46b464",
   "metadata": {},
   "source": [
    "## Variable names\n",
    "#### The recommended convenction is that variable names are typed in lowercase letters and words are separated by a underscore "
   ]
  },
  {
   "cell_type": "code",
   "execution_count": 1,
   "id": "7e924354",
   "metadata": {},
   "outputs": [
    {
     "data": {
      "text/plain": [
       "false"
      ]
     },
     "execution_count": 1,
     "metadata": {},
     "output_type": "execute_result"
    }
   ],
   "source": [
    "## Variable names\n",
    "z = 100\n",
    "y = 6.0\n",
    "s = \"Artificial\"\n",
    "data_science = true\n",
    "bool = false"
   ]
  },
  {
   "cell_type": "markdown",
   "id": "ce4940e8",
   "metadata": {},
   "source": [
    "## Operators"
   ]
  },
  {
   "cell_type": "code",
   "execution_count": 2,
   "id": "ffb2f16a",
   "metadata": {},
   "outputs": [
    {
     "name": "stdout",
     "output_type": "stream",
     "text": [
      "Sum:              6.5\n",
      "Subtract:         -4.5\n",
      "Multiplication:   3\n",
      "Division:         0.18181818181818182\n",
      "Power:            166.375\n",
      "----------------------------------------------------------\n",
      "x = y + 2:   4\n",
      "y = y - 2:   1\n",
      "x = x * 10:  40\n",
      "----------------------------------------------------------\n",
      "true\n",
      "true\n",
      "false\n"
     ]
    }
   ],
   "source": [
    "a = 1\n",
    "b = 5.5\n",
    "c = 3\n",
    "\n",
    "## Arithmetic\n",
    "println(\"Sum:              \", a+b)\n",
    "println(\"Subtract:         \", a-b)\n",
    "println(\"Multiplication:   \", a*c)\n",
    "println(\"Division:         \", a/b)\n",
    "println(\"Power:            \", b^3)\n",
    "\n",
    "println(\"----------------------------------------------------------\")\n",
    "## Updating operators\n",
    "x = 2\n",
    "y = 3\n",
    "println(\"x = y + 2:   \", x += 2)\n",
    "println(\"y = y - 2:   \", y -= 2)\n",
    "println(\"x = x * 10:  \", x *= 10)\n",
    "\n",
    "println(\"----------------------------------------------------------\")\n",
    "## Comparison\n",
    "println(4 == 4)\n",
    "println(5 != 8)\n",
    "println(3 <= 2)"
   ]
  },
  {
   "cell_type": "markdown",
   "id": "c9319a01",
   "metadata": {},
   "source": [
    "## Operator precedence\n",
    "\n",
    "#### When constructing expressions with multiple operators, the order in which these operators are applied to the expression is known as operator precedence."
   ]
  },
  {
   "cell_type": "code",
   "execution_count": 3,
   "id": "e4ac3abc",
   "metadata": {},
   "outputs": [
    {
     "name": "stdout",
     "output_type": "stream",
     "text": [
      "22\n",
      "38\n",
      "22\n"
     ]
    }
   ],
   "source": [
    "x = 2\n",
    "y = 3\n",
    "z = 4\n",
    "println(x*y+z^2)\n",
    "println(x*(y+(z^2)))\n",
    "println((x*y)+(z^2))"
   ]
  },
  {
   "cell_type": "markdown",
   "id": "de7b166a",
   "metadata": {},
   "source": [
    "## Types\n",
    "#### The Julia float type and all operations performed on it adhere to IEEE 754 standard (Zuras et al., 2018)\n",
    "#### In Julia, a string is a sequence of Unicode code points, using UTF-8 encoding.\n",
    "#### Char is a numeric value representing a Unicode code point"
   ]
  },
  {
   "cell_type": "code",
   "execution_count": 4,
   "id": "44e041fa",
   "metadata": {},
   "outputs": [
    {
     "name": "stdout",
     "output_type": "stream",
     "text": [
      "64\n",
      "9223372036854775807\n"
     ]
    }
   ],
   "source": [
    "## Computer's architecture type\n",
    "println(Sys.WORD_SIZE)\n",
    "\n",
    "## Size of te default primitive\n",
    "println(typemax(Int))"
   ]
  },
  {
   "cell_type": "code",
   "execution_count": 5,
   "id": "a5998870",
   "metadata": {},
   "outputs": [
    {
     "name": "stdout",
     "output_type": "stream",
     "text": [
      "Int64\n",
      "------------------------------------\n",
      "Float32\n",
      "true\n",
      "true\n",
      "true\n",
      "true\n",
      "------------------------------------\n",
      "String\n",
      " I have a \"quote\" character \n",
      "------------------------------------\n"
     ]
    }
   ],
   "source": [
    "# Integers\n",
    "int_1 = 1\n",
    "println(typeof(int_1))\n",
    "println(\"------------------------------------\")\n",
    "\n",
    "# Floats\n",
    "f_1 = 1.0\n",
    "f_2 = 15e-5\n",
    "# Format Float32\n",
    "f_3 = 2.5f-4\n",
    "println(typeof(f_3))\n",
    "\n",
    "# Digit separation \n",
    "println(7.4_4 == 7.44)\n",
    "\n",
    "# Values Errors\n",
    "println(isnan(0/0))\n",
    "println(isinf(10/0))\n",
    "println(isinf(10/0))\n",
    "println(\"------------------------------------\")"
   ]
  },
  {
   "cell_type": "code",
   "execution_count": 15,
   "id": "b9df88d7",
   "metadata": {},
   "outputs": [
    {
     "name": "stdout",
     "output_type": "stream",
     "text": [
      "String\n",
      " I have a \"quote\" character \n",
      "Julia is\n",
      "t\n",
      "fast\n",
      "Julia is very fast and works for Data Science\n",
      "Julia is very fast and works for Data Science\n",
      "------------------------------------\n"
     ]
    }
   ],
   "source": [
    "# Strings\n",
    "# The strings are immutable, and are defined by double or triple quotes\n",
    "s1 = \"Hello world\"\n",
    "s2 = \"\"\" I have a \"quote\" character \"\"\"\n",
    "println(typeof(s2))\n",
    "println(s2)\n",
    "\n",
    "# Strings ca be sliced\n",
    "my_string = \"Julia is very fast\"\n",
    "println(my_string[1:8])\n",
    "println(my_string[end])\n",
    "println(my_string[end-3:end])\n",
    "\n",
    "# The operator concatenation is *\n",
    "my_string_2 = \" and works for Data Science\"\n",
    "message = my_string * my_string_2\n",
    "# Another way\n",
    "message_2 = string(my_string, my_string_2)\n",
    "println(message)\n",
    "println(message_2)\n",
    "println(\"------------------------------------\")"
   ]
  },
  {
   "cell_type": "markdown",
   "id": "5aa4abea",
   "metadata": {},
   "source": [
    "### Strings can be compared lexicographically using comparison operators.\n",
    "#### Some methods of strings are:\n",
    "1. findfirst(pat, str)\n",
    "2. occursin(substr, str)\n",
    "3. repeat(str, n)\n",
    "4. lenth(str)\n",
    "5. replace(str, ptn => rep)\n",
    "\n",
    "#### Julia fully supports regular expressions (regexes):\n",
    "1. occursin(regex, str)\n",
    "2. match(regex, str)\n",
    "3. eachmatch(regex, str)"
   ]
  },
  {
   "cell_type": "markdown",
   "id": "4fb5829a",
   "metadata": {},
   "source": [
    "## Tuples \n",
    "#### Tuples are a Julia type. Fields are accessed by ther index, and are defined using brackets (). Tuples are inmmutables."
   ]
  },
  {
   "cell_type": "code",
   "execution_count": 19,
   "id": "77b94d9a",
   "metadata": {},
   "outputs": [
    {
     "name": "stdout",
     "output_type": "stream",
     "text": [
      "NTuple{5,Float64}\n",
      "Tuple{Int64,String,Float64,Float64,String}\n",
      "Science\n",
      "9004\n",
      "Covid\n"
     ]
    }
   ],
   "source": [
    "tup1 = (2., 5.6, 8.9, 2. ,5.)\n",
    "tup2 = (8, \"Julia\", 9.0, 4.7, \"Data\")\n",
    "\n",
    "println(typeof(tup1))\n",
    "println(typeof(tup2))\n",
    "\n",
    "a,b,c = (\"Science\", 9004, \"Covid\")\n",
    "println(a)\n",
    "println(b)\n",
    "println(c)"
   ]
  },
  {
   "cell_type": "code",
   "execution_count": null,
   "id": "50db41e2",
   "metadata": {},
   "outputs": [],
   "source": []
  }
 ],
 "metadata": {
  "kernelspec": {
   "display_name": "Julia 1.4.1",
   "language": "julia",
   "name": "julia-1.4"
  },
  "language_info": {
   "file_extension": ".jl",
   "mimetype": "application/julia",
   "name": "julia",
   "version": "1.4.1"
  }
 },
 "nbformat": 4,
 "nbformat_minor": 5
}
