{
 "cells": [
  {
   "cell_type": "markdown",
   "id": "9d7fd065",
   "metadata": {},
   "source": [
    "### Variable names\n",
    "#### The recommended convenction is that variable names are typed in lowercase letters and words are separated by a underscore "
   ]
  },
  {
   "cell_type": "code",
   "execution_count": null,
   "id": "44576500",
   "metadata": {},
   "outputs": [],
   "source": [
    "## Variable names\n",
    "z = 100\n",
    "y = 6.0\n",
    "s = \"Artificial\"\n",
    "data_science = true\n",
    "bool = false"
   ]
  },
  {
   "cell_type": "markdown",
   "id": "138ae37d",
   "metadata": {},
   "source": [
    "### Operators"
   ]
  },
  {
   "cell_type": "code",
   "execution_count": 25,
   "id": "c88aab0c",
   "metadata": {},
   "outputs": [
    {
     "name": "stdout",
     "output_type": "stream",
     "text": [
      "Sum:              6.5\n",
      "Subtract:         -4.5\n",
      "Multiplication:   3\n",
      "Division:         0.18181818181818182\n",
      "Power:            166.375\n",
      "----------------------------------------------------------\n",
      "x = y + 2:   4\n",
      "y = y - 2:   1\n",
      "x = x * 10:  40\n",
      "----------------------------------------------------------\n",
      "true\n",
      "true\n",
      "false\n"
     ]
    }
   ],
   "source": [
    "a = 1\n",
    "b = 5.5\n",
    "c = 3\n",
    "\n",
    "## Arithmetic\n",
    "println(\"Sum:              \", a+b)\n",
    "println(\"Subtract:         \", a-b)\n",
    "println(\"Multiplication:   \", a*c)\n",
    "println(\"Division:         \", a/b)\n",
    "println(\"Power:            \", b^3)\n",
    "\n",
    "println(\"----------------------------------------------------------\")\n",
    "## Updating operators\n",
    "x = 2\n",
    "y = 3\n",
    "println(\"x = y + 2:   \", x += 2)\n",
    "println(\"y = y - 2:   \", y -= 2)\n",
    "println(\"x = x * 10:  \", x *= 10)\n",
    "\n",
    "println(\"----------------------------------------------------------\")\n",
    "## Comparison\n",
    "println(4 == 4)\n",
    "println(5 != 8)\n",
    "println(3 <= 2)"
   ]
  },
  {
   "cell_type": "markdown",
   "id": "59c71e8d",
   "metadata": {},
   "source": [
    "## Operator precedence\n",
    "\n",
    "#### When constructing expressions with multiple operators, the order in which these operators are applied to the expression is known as operator precedence."
   ]
  },
  {
   "cell_type": "code",
   "execution_count": 27,
   "id": "faeb96ae",
   "metadata": {},
   "outputs": [
    {
     "name": "stdout",
     "output_type": "stream",
     "text": [
      "22\n",
      "38\n",
      "22\n"
     ]
    }
   ],
   "source": [
    "x = 2\n",
    "y = 3\n",
    "z = 4\n",
    "println(x*y+z^2)\n",
    "println(x*(y+(z^2)))\n",
    "println((x*y)+(z^2))"
   ]
  },
  {
   "cell_type": "markdown",
   "id": "55647034",
   "metadata": {},
   "source": [
    "### Types\n",
    "#### The Julia float type and all operations performed on it adhere to IEEE 754 standard (Zuras et al., 2018)\n",
    "#### In Julia, a string is a sequence of Unicode code points, using UTF-8 encoding.\n",
    "#### Char is a numeric value representing a Unicode code point"
   ]
  },
  {
   "cell_type": "code",
   "execution_count": 31,
   "id": "e0d2f8e5",
   "metadata": {},
   "outputs": [
    {
     "name": "stdout",
     "output_type": "stream",
     "text": [
      "64\n",
      "9223372036854775807\n"
     ]
    }
   ],
   "source": [
    "## Computer's architecture type\n",
    "println(Sys.WORD_SIZE)\n",
    "\n",
    "## Size of te default primitive\n",
    "println(typemax(Int))"
   ]
  },
  {
   "cell_type": "code",
   "execution_count": 38,
   "id": "1b6fed26",
   "metadata": {},
   "outputs": [
    {
     "name": "stdout",
     "output_type": "stream",
     "text": [
      "Int64\n",
      "------------------------------------\n",
      "Float32\n",
      "true\n",
      "true\n",
      "true\n",
      "true\n",
      "------------------------------------\n",
      "String\n",
      " I have a \"quote\" character \n",
      "------------------------------------\n"
     ]
    }
   ],
   "source": [
    "# Integers\n",
    "int_1 = 1\n",
    "println(typeof(int_1))\n",
    "println(\"------------------------------------\")\n",
    "\n",
    "# Floats\n",
    "f_1 = 1.0\n",
    "f_2 = 15e-5\n",
    "# Format Float32\n",
    "f_3 = 2.5f-4\n",
    "println(typeof(f_3))\n",
    "\n",
    "# Digit separation \n",
    "println(7.4_4 == 7.44)\n",
    "\n",
    "# Values Errors\n",
    "println(isnan(0/0))\n",
    "println(isinf(10/0))\n",
    "println(isinf(10/0))\n",
    "println(\"------------------------------------\")\n",
    "\n",
    "# Strings\n",
    "# The strings are immutable, and are defined by double or triple quotes\n",
    "s1 = \"Hello world\"\n",
    "s2 = \"\"\" I have a \"quote\" character \"\"\"\n",
    "println(typeof(s2))\n",
    "println(s2)\n",
    "println(\"------------------------------------\")"
   ]
  },
  {
   "cell_type": "code",
   "execution_count": null,
   "id": "bd5576e2",
   "metadata": {},
   "outputs": [],
   "source": []
  }
 ],
 "metadata": {
  "kernelspec": {
   "display_name": "Julia 1.4.1",
   "language": "julia",
   "name": "julia-1.4"
  },
  "language_info": {
   "file_extension": ".jl",
   "mimetype": "application/julia",
   "name": "julia",
   "version": "1.4.1"
  }
 },
 "nbformat": 4,
 "nbformat_minor": 5
}
