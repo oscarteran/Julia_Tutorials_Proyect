{
 "cells": [
  {
   "cell_type": "markdown",
   "id": "34305838",
   "metadata": {},
   "source": [
    "## Oscar Hernández Terán\n",
    "Bachelor's degree:\n",
    "        Geophysical Engineer"
   ]
  },
  {
   "cell_type": "markdown",
   "id": "1f46b464",
   "metadata": {},
   "source": [
    "## Variable names\n",
    "#### The recommended convenction is that variable names are typed in lowercase letters and words are separated by a underscore "
   ]
  },
  {
   "cell_type": "code",
   "execution_count": 1,
   "id": "7e924354",
   "metadata": {},
   "outputs": [
    {
     "data": {
      "text/plain": [
       "false"
      ]
     },
     "execution_count": 1,
     "metadata": {},
     "output_type": "execute_result"
    }
   ],
   "source": [
    "## Variable names\n",
    "z = 100\n",
    "y = 6.0\n",
    "s = \"Artificial\"\n",
    "data_science = true\n",
    "bool = false"
   ]
  },
  {
   "cell_type": "markdown",
   "id": "ce4940e8",
   "metadata": {},
   "source": [
    "## Operators"
   ]
  },
  {
   "cell_type": "code",
   "execution_count": 2,
   "id": "ffb2f16a",
   "metadata": {},
   "outputs": [
    {
     "name": "stdout",
     "output_type": "stream",
     "text": [
      "Sum:              6.5\n",
      "Subtract:         -4.5\n",
      "Multiplication:   3\n",
      "Division:         0.18181818181818182\n",
      "Power:            166.375\n",
      "----------------------------------------------------------\n",
      "x = y + 2:   4\n",
      "y = y - 2:   1\n",
      "x = x * 10:  40\n",
      "----------------------------------------------------------\n",
      "true\n",
      "true\n",
      "false\n"
     ]
    }
   ],
   "source": [
    "a = 1\n",
    "b = 5.5\n",
    "c = 3\n",
    "\n",
    "## Arithmetic\n",
    "println(\"Sum:              \", a+b)\n",
    "println(\"Subtract:         \", a-b)\n",
    "println(\"Multiplication:   \", a*c)\n",
    "println(\"Division:         \", a/b)\n",
    "println(\"Power:            \", b^3)\n",
    "\n",
    "println(\"----------------------------------------------------------\")\n",
    "## Updating operators\n",
    "x = 2\n",
    "y = 3\n",
    "println(\"x = y + 2:   \", x += 2)\n",
    "println(\"y = y - 2:   \", y -= 2)\n",
    "println(\"x = x * 10:  \", x *= 10)\n",
    "\n",
    "println(\"----------------------------------------------------------\")\n",
    "## Comparison\n",
    "println(4 == 4)\n",
    "println(5 != 8)\n",
    "println(3 <= 2)"
   ]
  },
  {
   "cell_type": "markdown",
   "id": "c9319a01",
   "metadata": {},
   "source": [
    "## Operator precedence\n",
    "\n",
    "#### When constructing expressions with multiple operators, the order in which these operators are applied to the expression is known as operator precedence."
   ]
  },
  {
   "cell_type": "code",
   "execution_count": 3,
   "id": "e4ac3abc",
   "metadata": {},
   "outputs": [
    {
     "name": "stdout",
     "output_type": "stream",
     "text": [
      "22\n",
      "38\n",
      "22\n"
     ]
    }
   ],
   "source": [
    "x = 2\n",
    "y = 3\n",
    "z = 4\n",
    "println(x*y+z^2)\n",
    "println(x*(y+(z^2)))\n",
    "println((x*y)+(z^2))"
   ]
  },
  {
   "cell_type": "markdown",
   "id": "de7b166a",
   "metadata": {},
   "source": [
    "## Types\n",
    "#### The Julia float type and all operations performed on it adhere to IEEE 754 standard (Zuras et al., 2018)\n",
    "#### In Julia, a string is a sequence of Unicode code points, using UTF-8 encoding.\n",
    "#### Char is a numeric value representing a Unicode code point"
   ]
  },
  {
   "cell_type": "code",
   "execution_count": 4,
   "id": "44e041fa",
   "metadata": {},
   "outputs": [
    {
     "name": "stdout",
     "output_type": "stream",
     "text": [
      "64\n",
      "9223372036854775807\n"
     ]
    }
   ],
   "source": [
    "## Computer's architecture type\n",
    "println(Sys.WORD_SIZE)\n",
    "\n",
    "## Size of te default primitive\n",
    "println(typemax(Int))"
   ]
  },
  {
   "cell_type": "code",
   "execution_count": 5,
   "id": "a5998870",
   "metadata": {},
   "outputs": [
    {
     "name": "stdout",
     "output_type": "stream",
     "text": [
      "Int64\n",
      "------------------------------------\n",
      "Float32\n",
      "true\n",
      "true\n",
      "true\n",
      "true\n",
      "------------------------------------\n"
     ]
    }
   ],
   "source": [
    "# Integers\n",
    "int_1 = 1\n",
    "println(typeof(int_1))\n",
    "println(\"------------------------------------\")\n",
    "\n",
    "# Floats\n",
    "f_1 = 1.0\n",
    "f_2 = 15e-5\n",
    "# Format Float32\n",
    "f_3 = 2.5f-4\n",
    "println(typeof(f_3))\n",
    "\n",
    "# Digit separation \n",
    "println(7.4_4 == 7.44)\n",
    "\n",
    "# Values Errors\n",
    "println(isnan(0/0))\n",
    "println(isinf(10/0))\n",
    "println(isinf(10/0))\n",
    "println(\"------------------------------------\")"
   ]
  },
  {
   "cell_type": "code",
   "execution_count": 6,
   "id": "b9df88d7",
   "metadata": {},
   "outputs": [
    {
     "name": "stdout",
     "output_type": "stream",
     "text": [
      "String\n",
      " I have a \"quote\" character \n",
      "Julia is\n",
      "t\n",
      "fast\n",
      "Julia is very fast and works for Data Science\n",
      "Julia is very fast and works for Data Science\n",
      "------------------------------------\n"
     ]
    }
   ],
   "source": [
    "# Strings\n",
    "# The strings are immutable, and are defined by double or triple quotes\n",
    "s1 = \"Hello world\"\n",
    "s2 = \"\"\" I have a \"quote\" character \"\"\"\n",
    "println(typeof(s2))\n",
    "println(s2)\n",
    "\n",
    "# Strings ca be sliced\n",
    "my_string = \"Julia is very fast\"\n",
    "println(my_string[1:8])\n",
    "println(my_string[end])\n",
    "println(my_string[end-3:end])\n",
    "\n",
    "# The operator concatenation is *\n",
    "my_string_2 = \" and works for Data Science\"\n",
    "message = my_string * my_string_2\n",
    "# Another way\n",
    "message_2 = string(my_string, my_string_2)\n",
    "println(message)\n",
    "println(message_2)\n",
    "println(\"------------------------------------\")"
   ]
  },
  {
   "cell_type": "markdown",
   "id": "5aa4abea",
   "metadata": {},
   "source": [
    "### Strings can be compared lexicographically using comparison operators.\n",
    "#### Some methods of strings are:\n",
    "1. findfirst(pat, str)\n",
    "2. occursin(substr, str)\n",
    "3. repeat(str, n)\n",
    "4. lenth(str)\n",
    "5. replace(str, ptn => rep)\n",
    "\n",
    "#### Julia fully supports regular expressions (regexes):\n",
    "1. occursin(regex, str)\n",
    "2. match(regex, str)\n",
    "3. eachmatch(regex, str)"
   ]
  },
  {
   "cell_type": "markdown",
   "id": "4fb5829a",
   "metadata": {},
   "source": [
    "## Tuples \n",
    "#### Tuples are a Julia type. Fields are accessed by ther index, and are defined using brackets (). Tuples are inmmutables."
   ]
  },
  {
   "cell_type": "code",
   "execution_count": 7,
   "id": "77b94d9a",
   "metadata": {},
   "outputs": [
    {
     "name": "stdout",
     "output_type": "stream",
     "text": [
      "NTuple{5,Float64}\n",
      "Tuple{Int64,String,Float64,Float64,String}\n",
      "Science\n",
      "9004\n",
      "Covid\n"
     ]
    }
   ],
   "source": [
    "tup1 = (2., 5.6, 8.9, 2. ,5.)\n",
    "tup2 = (8, \"Julia\", 9.0, 4.7, \"Data\")\n",
    "\n",
    "println(typeof(tup1))\n",
    "println(typeof(tup2))\n",
    "\n",
    "a,b,c = (\"Science\", 9004, \"Covid\")\n",
    "println(a)\n",
    "println(b)\n",
    "println(c)"
   ]
  },
  {
   "cell_type": "markdown",
   "id": "1b387bba",
   "metadata": {},
   "source": [
    "## Arrays\n",
    "#### An array is a multidimensional grid that stores objects of any type."
   ]
  },
  {
   "cell_type": "code",
   "execution_count": 8,
   "id": "4f4065e3",
   "metadata": {},
   "outputs": [
    {
     "name": "stdout",
     "output_type": "stream",
     "text": [
      "[139960192001392, 139960192001392, 139959461493168, 139959461493200, 139959461493232]\n",
      "[139960101150832 139960101150960; 139960101150896 139959487693104]\n"
     ]
    }
   ],
   "source": [
    "# Definition with type and dimension\n",
    "a1 = Array{Int64}(undef, 5)\n",
    "println(a1)\n",
    "\n",
    "a2 = Array{Int64}(undef, (2,2))\n",
    "println(a2)"
   ]
  },
  {
   "cell_type": "markdown",
   "id": "801d08e0",
   "metadata": {},
   "source": [
    "#### In Julia, [] can also be used to generate arrays.\n",
    "\n",
    "#### Julia has many built-in functions that generate specific kinds of arrays. Here are some useful ones:\n",
    "1. zeros(T, d1, ..)-------Matrix of zeros\n",
    "2. ones(T, d1, ..)--------Matrix of ones\n",
    "3. rand(T, d1, ..)--------Matrix of random numbers between 0 and 1\n",
    "4. randn(T, d1, ..)-------Matrix of random numbers from the standar normal distribution\n",
    "5. MatrixT(I, (n,n)-------Is the nxn identity matrix \n",
    "6. fill!(A, x)----------------Is the array A filled with value x\n",
    "\n",
    "#### Note that, in te above, d1 can be a tuple specifying multiple dimensions.\n",
    "\n",
    "\n",
    "#### Arrays can easily be concatenated in Julia:\n",
    "1. vcat(A1, A2, ..) --------Concatenates arrays vertically\n",
    "2. hcat(A1, A2, ..) --------Concatenates arrays hotizontally"
   ]
  },
  {
   "cell_type": "code",
   "execution_count": 9,
   "id": "39464936",
   "metadata": {},
   "outputs": [
    {
     "data": {
      "text/plain": [
       "4×3 Array{Float64,2}:\n",
       " -1.30394    1.54453    0.166894\n",
       " -0.014866  -0.0107168  0.699948\n",
       " -0.918621  -0.0558607  0.030346\n",
       " -0.702463   1.29535    0.477379"
      ]
     },
     "execution_count": 9,
     "metadata": {},
     "output_type": "execute_result"
    }
   ],
   "source": [
    "# A vector\n",
    "a3 = [1, 2, 3]\n",
    "\n",
    "# A 1x3 column vector\n",
    "a4 = [4 5 6]\n",
    "\n",
    "# A matrix 2x3\n",
    "m1 = [10 20 30 ; 90 91 92]\n",
    "\n",
    "m2 = randn(Float64, (4,3))\n",
    "m2"
   ]
  },
  {
   "cell_type": "code",
   "execution_count": 10,
   "id": "004fc0a2",
   "metadata": {},
   "outputs": [
    {
     "name": "stdout",
     "output_type": "stream",
     "text": [
      "12\n",
      "(4, 3)\n",
      "2\n"
     ]
    },
    {
     "data": {
      "text/plain": [
       "3×4 Array{Float64,2}:\n",
       " -1.30394   -0.702463   -0.0558607  0.699948\n",
       " -0.014866   1.54453     1.29535    0.030346\n",
       " -0.918621  -0.0107168   0.166894   0.477379"
      ]
     },
     "execution_count": 10,
     "metadata": {},
     "output_type": "execute_result"
    }
   ],
   "source": [
    "# Utils methods\n",
    "println(length(m2))\n",
    "println(size(m2))\n",
    "println(ndims(m2))\n",
    "\n",
    "m2_c = deepcopy(m2)\n",
    "\n",
    "m2_r = reshape(m2, (3,4))"
   ]
  },
  {
   "cell_type": "code",
   "execution_count": 11,
   "id": "11828d76",
   "metadata": {},
   "outputs": [
    {
     "data": {
      "text/plain": [
       "5×5 Array{Int8,2}:\n",
       " 1  0  0  0  0\n",
       " 0  1  0  0  0\n",
       " 0  0  1  0  0\n",
       " 0  0  0  1  0\n",
       " 0  0  0  0  1"
      ]
     },
     "execution_count": 11,
     "metadata": {},
     "output_type": "execute_result"
    }
   ],
   "source": [
    "# Importing moduls\n",
    "using LinearAlgebra\n",
    "imat = Matrix{Int8}(I, (5,5))\n",
    "imat"
   ]
  },
  {
   "cell_type": "markdown",
   "id": "4e8de6da",
   "metadata": {},
   "source": [
    "### Index"
   ]
  },
  {
   "cell_type": "code",
   "execution_count": 12,
   "id": "8112bde7",
   "metadata": {},
   "outputs": [
    {
     "data": {
      "text/plain": [
       "3×4 Array{Float64,2}:\n",
       " -1.30394   -0.702463   -0.0558607  0.699948\n",
       " -0.014866   1.54453     1.29535    0.030346\n",
       " -0.918621  -0.0107168   0.166894   0.477379"
      ]
     },
     "execution_count": 12,
     "metadata": {},
     "output_type": "execute_result"
    }
   ],
   "source": [
    "m2_r"
   ]
  },
  {
   "cell_type": "code",
   "execution_count": 13,
   "id": "e64db9bd",
   "metadata": {},
   "outputs": [
    {
     "name": "stdout",
     "output_type": "stream",
     "text": [
      "[-1.3039432490715472, -0.014865999046136107, -0.9186211577586266]\n",
      "[-1.3039432490715472, -0.7024631943475249, -0.05586068812487272, 0.6999478281769111]\n",
      "[-1.3039432490715472, -0.014865999046136107, -0.9186211577586266]\n",
      "[-0.7024631943475249, 1.544526391737921, -0.01071684586695944]\n"
     ]
    }
   ],
   "source": [
    "println(m2_r[1:3])\n",
    "println(m2_r[1,:])\n",
    "println(m2_r[:,1])\n",
    "println(m2_r[1:end,2])"
   ]
  },
  {
   "cell_type": "markdown",
   "id": "57437f74",
   "metadata": {},
   "source": [
    "### Comprehensions"
   ]
  },
  {
   "cell_type": "code",
   "execution_count": 14,
   "id": "1511d438",
   "metadata": {},
   "outputs": [
    {
     "name": "stdout",
     "output_type": "stream",
     "text": [
      "[1.0, 2.0, 3.0, 4.0, 5.0]\n",
      "[1, 4, 9, 16, 25]\n"
     ]
    }
   ],
   "source": [
    "A1 = [sqrt(i) for i in [1,4,9,16,25]]\n",
    "println(A1)\n",
    "\n",
    "A2 = [i^2 for i in [1,2,3,4,5]]\n",
    "println(A2)"
   ]
  },
  {
   "cell_type": "markdown",
   "id": "75da2845",
   "metadata": {},
   "source": [
    "## Dictionaries\n",
    "In Julia, dictionaries are defines as associative collections consisting of a key-value. Dictionaries in Julia are created using the keyword Dict and types can de specified for both the key and the value. The keys are hashed and are always unique."
   ]
  },
  {
   "cell_type": "code",
   "execution_count": 16,
   "id": "ac72015b",
   "metadata": {},
   "outputs": [
    {
     "name": "stdout",
     "output_type": "stream",
     "text": [
      "Dict{Any,Any}()\n",
      "Dict(2 => \"World\",1 => \"Hi\")\n",
      "Dict{Integer,String}(2 => \"World\",1 => \"Hi\")\n"
     ]
    }
   ],
   "source": [
    "Dic1 = Dict()\n",
    "Dic2 = Dict(1 => \"Hi\", 2 => \"World\")\n",
    "Dic3 = Dict{Integer, String}(1 => \"Hi\", 2 => \"World\")\n",
    "println(Dic1,\"\\n\", Dic2, \"\\n\", Dic3)"
   ]
  },
  {
   "cell_type": "markdown",
   "id": "aa9bd5a9",
   "metadata": {},
   "source": [
    "Dictionaries can be created using a loop or using the generator syntax (Comprehensions)"
   ]
  },
  {
   "cell_type": "code",
   "execution_count": 19,
   "id": "5bf5ae0e",
   "metadata": {},
   "outputs": [
    {
     "name": "stdout",
     "output_type": "stream",
     "text": [
      "Dict{Integer,String}()\n",
      "Dict{Integer,String}(2 => \"white\",3 => \"rose\",1 => \"red\")\n"
     ]
    }
   ],
   "source": [
    "meats = [\"Fish\", \"Chicken\", \"Cown\"]\n",
    "\n",
    "# We inizializate the dict\n",
    "Dict4 = Dict{Integer, String}()\n",
    "\n",
    "for (n, fd) in enumerate(Dict4)\n",
    "    Dict4[n] = fd\n",
    "end\n",
    "\n",
    "wine = [\"red\", \"white\", \"rose\"]\n",
    "Dict5 = Dict{Integer, String}(i => wine[i] for i in 1:length(wine))\n",
    "\n",
    "println(Dict4,\"\\n\", Dict5)"
   ]
  },
  {
   "cell_type": "code",
   "execution_count": null,
   "id": "e6a059d6",
   "metadata": {},
   "outputs": [],
   "source": []
  },
  {
   "cell_type": "code",
   "execution_count": null,
   "id": "8241f517",
   "metadata": {},
   "outputs": [],
   "source": []
  },
  {
   "cell_type": "code",
   "execution_count": null,
   "id": "210bd193",
   "metadata": {},
   "outputs": [],
   "source": []
  },
  {
   "cell_type": "code",
   "execution_count": null,
   "id": "1c08fc5c",
   "metadata": {},
   "outputs": [],
   "source": []
  }
 ],
 "metadata": {
  "kernelspec": {
   "display_name": "Julia 1.4.1",
   "language": "julia",
   "name": "julia-1.4"
  },
  "language_info": {
   "file_extension": ".jl",
   "mimetype": "application/julia",
   "name": "julia",
   "version": "1.4.1"
  }
 },
 "nbformat": 4,
 "nbformat_minor": 5
}
